{
 "cells": [
  {
   "cell_type": "markdown",
   "id": "08b3fc9f",
   "metadata": {},
   "source": [
    "# Merhaba Whatsapp Projeme Hoşgeldiniz\n",
    "## Bu proje, normal kod bloğunun sunum için hazırlanıp, fonksiyon haline getirildiği bir versiyonudur.\n",
    "### Telefon numaraları tabloda gösterilmek üzere rastgele girilmiştir. Testler gerçek datalarla yapılmıştır.\n"
   ]
  },
  {
   "cell_type": "markdown",
   "id": "b933c2a4",
   "metadata": {},
   "source": [
    "#### İlk Aşama:\n",
    "Verilerimizi manipüle edeceğimiz datalarımızı importladık"
   ]
  },
  {
   "cell_type": "code",
   "execution_count": 2,
   "id": "c1e1358a",
   "metadata": {},
   "outputs": [],
   "source": [
    "import pywhatkit as py\n",
    "import pandas as pd"
   ]
  },
  {
   "cell_type": "markdown",
   "id": "a516831a",
   "metadata": {},
   "source": [
    "#### İkinci Aşama (PANDAS):\n",
    "Bu aşamada hedefteki datamızı okuttuk yazdırdık"
   ]
  },
  {
   "cell_type": "code",
   "execution_count": 3,
   "id": "dcc6cbff",
   "metadata": {},
   "outputs": [
    {
     "name": "stdout",
     "output_type": "stream",
     "text": [
      "     Telefon No          Mesaj  Saat  Dakika  Ay  Gun\n",
      "0  905333333333  Mesajim Budur     1      55   8   29\n",
      "1  905344444444  Mesajim Budur     8      15   7   29\n",
      "2  905319234234  Mesajim Budur     1      15   8   27\n",
      "3  905312344552  Mesajim Budur     1      17   8   26\n",
      "4  905319345230  Mesajim Budur    13      15   8   29\n",
      "5  905319234443  Mesajim Budur    11      15   8   29\n",
      "6  905319234443  Mesajim Budur     1      18   8   29\n"
     ]
    }
   ],
   "source": [
    "# Datamızı, pandas kütüphanesi yardımıyla okuttuk\n",
    "df=pd.read_csv(\"/home/euryanassa/MyPythonCodes1/TelNo.csv\")\n",
    "print(df)"
   ]
  },
  {
   "cell_type": "code",
   "execution_count": 4,
   "id": "30870e80",
   "metadata": {},
   "outputs": [
    {
     "name": "stdout",
     "output_type": "stream",
     "text": [
      "     Telefon No          Mesaj  Saat  Dakika  Ay  Gun\n",
      "1  905344444444  Mesajim Budur     8      15   7   29\n",
      "3  905312344552  Mesajim Budur     1      17   8   26\n",
      "2  905319234234  Mesajim Budur     1      15   8   27\n",
      "6  905319234443  Mesajim Budur     1      18   8   29\n",
      "0  905333333333  Mesajim Budur     1      55   8   29\n",
      "5  905319234443  Mesajim Budur    11      15   8   29\n",
      "4  905319345230  Mesajim Budur    13      15   8   29\n"
     ]
    }
   ],
   "source": [
    "# Verilerimizi saat ve dakika datasını baz alarak sıraladık\n",
    "# Çünkü döngümüz sırayla okuyup, mesajlarımızı atacak\n",
    "# Ay ve gün ekleme sebebim ise, saat datasına göre sıralama yapınca en küçük sayıyı alıyordu.\n",
    "# Ben de sırama gün ekledim. Bu sefer ay sonları halletmem gerektiğinden, ay datası da \n",
    "# eklemenin gerekli olduğunu düşündüm \n",
    "df_siralanmis=df.sort_values(by=['Ay','Gun','Saat','Dakika'])\n",
    "print(df_siralanmis)"
   ]
  },
  {
   "cell_type": "code",
   "execution_count": 7,
   "id": "358bdac9",
   "metadata": {},
   "outputs": [
    {
     "name": "stdout",
     "output_type": "stream",
     "text": [
      "7\n"
     ]
    }
   ],
   "source": [
    "# For loopunda kullanılmak üzere satır uzunluğumuzun datasını aldık\n",
    "Satir,Sutun=df.shape\n",
    "print(Satir)"
   ]
  },
  {
   "cell_type": "code",
   "execution_count": null,
   "id": "f156e3f0",
   "metadata": {},
   "outputs": [
    {
     "name": "stdout",
     "output_type": "stream",
     "text": [
      "In 531 seconds web.whatsapp.com will open and after 20 seconds message will be delivered\n"
     ]
    }
   ],
   "source": [
    "# Sıralanan Datamızı, sırasıyla mesaj atma aşamasına getirdik\n",
    "for i in range(Satir):\n",
    "    # İlk satırımızı bu if'de yolladık\n",
    "    if i==0:\n",
    "        py.sendwhatmsg(f\"+\"+str(df[\"Telefon No\"][i]),str(df[\"Mesaj\"][i]),int(df[\"Saat\"][i]),int(df[\"Dakika\"][i]))\n",
    "        \n",
    "        # Bilgilendirme aşaması: \n",
    "        print(str(df[\"Telefon No\"][i],\"Telefon Numaralı Kişiye\",str(df[\"Mesaj\"][i]),\"Mesajınız Gönderildi\"))\n",
    "    \n",
    "    # Eğer gün ve dakika verisi birbirine eşit değilse, mesajımızı girilen saate göre yolluyoruz\n",
    "    elif (int(df[\"Dakika\"][i])!=int(df[\"Dakika\"][i-1]) and int(df[\"Saat\"][i-1])!=int(df[\"Saat\"][i-1])):\n",
    "        py.sendwhatmsg(f\"+\"+str(df[\"Telefon No\"][i]),str(df[\"Mesaj\"][i]),int(df[\"Saat\"][i]),int(df[\"Dakika\"][i]))\n",
    "        \n",
    "        # Bilgilendirme aşaması:  \n",
    "        print(str(df[\"Telefon No\"][i],\"Telefon Numaralı Kişiye\",str(df[\"Mesaj\"][i]),\"Mesajınız Gönderildi\"))\n",
    "\n",
    "    # Eğer gün ve dakikalarımız üstü üste binmişse, mesajımızı direkt gönderiyoruz. çünkü zamanı geldiğinden\n",
    "    # dolayı bir satır üstteki mesajı yolladıysa, deiğer mesaj otomatikmen 24 saat sonraya zamanlanıyor.\n",
    "    # Bu şekilde bu hatanın önüne geçmiş oluyoruz\n",
    "    else:\n",
    "        py.sendwhatmsg_instantly(f\"+\"+str(df[\"Telefon No\"][i]),str(df[\"Mesaj\"][i]))\n",
    "        \n",
    "        #Bilgilendirme Aşaması\n",
    "        print(str(df[\"Telefon No\"][i],\"Telefon Numaralı Kişiye\",str(df[\"Mesaj\"][i]),\"Mesajınız Gönderildi\"))\n",
    "print(\"Mesaj Gönderim İşlemleriniz, Başarıyla Tamamlanmıştır\\n Saygılarımla,\\nAltemur Çelikayar\")"
   ]
  },
  {
   "cell_type": "markdown",
   "id": "67d0db6d",
   "metadata": {},
   "source": [
    "### TÜM TESTLERİ TARAFIMCA YAPILMIŞTIR. İSTERSENİZ CSV DOSYASINI SIRASIYLA Telefon No(+ olmadan),Mesaj,Saat,Dakika,Ay,Gun yazarak deneyebilirsiniz"
   ]
  }
 ],
 "metadata": {
  "kernelspec": {
   "display_name": "Python 3 (ipykernel)",
   "language": "python",
   "name": "python3"
  },
  "language_info": {
   "codemirror_mode": {
    "name": "ipython",
    "version": 3
   },
   "file_extension": ".py",
   "mimetype": "text/x-python",
   "name": "python",
   "nbconvert_exporter": "python",
   "pygments_lexer": "ipython3",
   "version": "3.8.10"
  }
 },
 "nbformat": 4,
 "nbformat_minor": 5
}
